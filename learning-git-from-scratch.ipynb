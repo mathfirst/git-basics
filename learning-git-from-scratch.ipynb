{
 "cells": [
  {
   "cell_type": "markdown",
   "id": "3e86d168-487b-4baf-995a-dc6ba7c1aed3",
   "metadata": {},
   "source": [
    "# Learn Git step by step"
   ]
  },
  {
   "cell_type": "markdown",
   "id": "c5b04215-25ef-405d-a955-8be1d40750f4",
   "metadata": {},
   "source": [
    "## Reference: https://training.github.com/downloads/github-git-cheat-sheet.pdf"
   ]
  },
  {
   "cell_type": "markdown",
   "id": "f4d39bd8-01be-4029-a249-8932a9925bd1",
   "metadata": {},
   "source": [
    "## Configure"
   ]
  },
  {
   "cell_type": "markdown",
   "id": "a91ad512-0967-4896-8f37-7040e182ce93",
   "metadata": {},
   "source": [
    "`git config --global user.name \"[username]\"`\n",
    "\n",
    "`git config --global user.email \"[useremail]\"`"
   ]
  },
  {
   "cell_type": "markdown",
   "id": "4cfe7418-dcf2-4bef-9103-2250ec5e3990",
   "metadata": {},
   "source": [
    "## Create repositories"
   ]
  },
  {
   "cell_type": "markdown",
   "id": "832850b3-7506-4b1c-8557-696e914a7a0f",
   "metadata": {},
   "source": [
    "1. `git init`  Turn an existing directory into a git repository\n",
    "\n",
    "2. "
   ]
  },
  {
   "cell_type": "markdown",
   "id": "c825459d-7f44-4beb-8148-50d81a453063",
   "metadata": {},
   "source": [
    "## Make changes"
   ]
  },
  {
   "cell_type": "markdown",
   "id": "f280e33d-560a-48aa-8a73-1f9e16530ec0",
   "metadata": {},
   "source": [
    "1. `git log`  Lists version history for the current branch\n",
    "\n",
    "2. `git add [file]`  Snapshots the file in preparation for versioning. You can run `git add .` to snapshot all files.\n",
    "\n",
    "3. `git commit -m \"[descriptive message]\"` Records all snapshots permanently in version history\n",
    "\n",
    "4. `git reflog` Shows records that Git keeps of branch and Head modifications that have taken place in your project's local repository"
   ]
  },
  {
   "cell_type": "markdown",
   "id": "55dbc371-5015-4122-adc5-13dfc0c6aa46",
   "metadata": {},
   "source": [
    "## Redo/Undo commits"
   ]
  },
  {
   "cell_type": "markdown",
   "id": "f4a764f2-fc96-47f9-b40a-bc5e8dcd86f6",
   "metadata": {},
   "source": [
    "1. `git reset --hard [commit]` Discards all history and changes back to the specified commit. Note that you have to run `git log` or `git reflog` in advance to get the commit ID you are heading for."
   ]
  },
  {
   "cell_type": "code",
   "execution_count": null,
   "id": "768f9251-52a7-4ee8-8df9-d31c46406e76",
   "metadata": {},
   "outputs": [],
   "source": []
  }
 ],
 "metadata": {
  "kernelspec": {
   "display_name": "Python 3 (ipykernel)",
   "language": "python",
   "name": "python3"
  },
  "language_info": {
   "codemirror_mode": {
    "name": "ipython",
    "version": 3
   },
   "file_extension": ".py",
   "mimetype": "text/x-python",
   "name": "python",
   "nbconvert_exporter": "python",
   "pygments_lexer": "ipython3",
   "version": "3.10.6"
  }
 },
 "nbformat": 4,
 "nbformat_minor": 5
}
