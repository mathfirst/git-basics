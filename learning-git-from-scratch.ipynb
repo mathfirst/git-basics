{
 "cells": [
  {
   "cell_type": "markdown",
   "id": "3e86d168-487b-4baf-995a-dc6ba7c1aed3",
   "metadata": {},
   "source": [
    "# Learn git step by step"
   ]
  },
  {
   "cell_type": "code",
   "execution_count": null,
   "id": "57ce18ea-5c81-4445-b260-24211cc31a52",
   "metadata": {},
   "outputs": [],
   "source": []
  }
 ],
 "metadata": {
  "kernelspec": {
   "display_name": "Python 3 (ipykernel)",
   "language": "python",
   "name": "python3"
  },
  "language_info": {
   "codemirror_mode": {
    "name": "ipython",
    "version": 3
   },
   "file_extension": ".py",
   "mimetype": "text/x-python",
   "name": "python",
   "nbconvert_exporter": "python",
   "pygments_lexer": "ipython3",
   "version": "3.10.6"
  }
 },
 "nbformat": 4,
 "nbformat_minor": 5
}
