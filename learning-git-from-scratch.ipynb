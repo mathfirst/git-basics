{
 "cells": [
  {
   "cell_type": "markdown",
   "id": "3e86d168-487b-4baf-995a-dc6ba7c1aed3",
   "metadata": {},
   "source": [
    "# Learn Git step by step"
   ]
  },
  {
   "cell_type": "markdown",
   "id": "c5b04215-25ef-405d-a955-8be1d40750f4",
   "metadata": {},
   "source": [
    "## Reference: \n",
    "    1. https://training.github.com/downloads/github-git-cheat-sheet.pdf\n",
    "    2. https://www.bilibili.com/video/BV1YW4y177ic?p=15&vd_source=b5354f4326756884a1a9d4e2863e8a6b"
   ]
  },
  {
   "cell_type": "markdown",
   "id": "f4d39bd8-01be-4029-a249-8932a9925bd1",
   "metadata": {},
   "source": [
    "## Configure"
   ]
  },
  {
   "cell_type": "markdown",
   "id": "a91ad512-0967-4896-8f37-7040e182ce93",
   "metadata": {},
   "source": [
    "`git config --global user.name \"[username]\"`\n",
    "\n",
    "`git config --global user.email \"[useremail]\"`"
   ]
  },
  {
   "cell_type": "markdown",
   "id": "4cfe7418-dcf2-4bef-9103-2250ec5e3990",
   "metadata": {},
   "source": [
    "## Create repositories"
   ]
  },
  {
   "cell_type": "markdown",
   "id": "832850b3-7506-4b1c-8557-696e914a7a0f",
   "metadata": {},
   "source": [
    "1. `git init`  Turn an existing directory into a git repository\n",
    "\n",
    "2. "
   ]
  },
  {
   "cell_type": "markdown",
   "id": "c825459d-7f44-4beb-8148-50d81a453063",
   "metadata": {},
   "source": [
    "## Make changes"
   ]
  },
  {
   "cell_type": "markdown",
   "id": "f280e33d-560a-48aa-8a73-1f9e16530ec0",
   "metadata": {},
   "source": [
    "1. `git log`  Lists version history for the current branch\n",
    "\n",
    "2. `git add [file]`  Snapshots the file in preparation for versioning. You can run `git add .` to snapshot all files.\n",
    "\n",
    "3. `git commit -m \"[descriptive message]\"` Records all snapshots permanently in version history\n",
    "\n",
    "4. `git reflog` Shows records that Git keeps of branch and Head modifications that have taken place in your project's local repository"
   ]
  },
  {
   "cell_type": "markdown",
   "id": "55dbc371-5015-4122-adc5-13dfc0c6aa46",
   "metadata": {},
   "source": [
    "## Redo/Undo commits"
   ]
  },
  {
   "cell_type": "markdown",
   "id": "f4a764f2-fc96-47f9-b40a-bc5e8dcd86f6",
   "metadata": {},
   "source": [
    "1. `git reset --hard [commit]` Discards all history and changes back to the specified commit. Note that you have to run `git log` or `git reflog` in advance to get the commit ID you are heading for.\n",
    "\n",
    "2. `git checkout -- [file]` Discard changes back to the contolled version"
   ]
  },
  {
   "cell_type": "markdown",
   "id": "0b61c45f-db90-48bd-944d-d546ffa05410",
   "metadata": {},
   "source": [
    "## Branches"
   ]
  },
  {
   "cell_type": "markdown",
   "id": "a3817562-2342-462b-986e-90dcdb5186f3",
   "metadata": {},
   "source": [
    "1. `git branch` Check all branches\n",
    "\n",
    "2. `git branch [branch-name]` Create a new branch\n",
    "\n",
    "3. `git checkout [branch-name]` Switches to the specified branch and updates the working directory\n",
    "\n",
    "4. `git merge [branch-name]` Combines the specified branch's history into the current branch\n",
    "\n",
    "5. `git branch -d [branch-name]` Deletes the specified branch"
   ]
  },
  {
   "cell_type": "markdown",
   "id": "885e08bd-0db8-471d-a077-4701b8b09114",
   "metadata": {},
   "source": [
    "## Synchronize changes"
   ]
  },
  {
   "cell_type": "markdown",
   "id": "7d011b4c-b749-403b-b658-39a44a1cff0f",
   "metadata": {},
   "source": [
    "1. `git remote add origin [remote-repo-url]`  Give the remote url a different name (origin)\n",
    "\n",
    "2. `git push -u origin [branch-name]`  Upload the specified branch commits to Github\n",
    "\n",
    "3. `git clone [url]` Downloads a repository that already exists on Github, including all of the files, branches, and commits. In this step, Git will give the remote repo another name `origin`.\n",
    "\n",
    "4. `git checkout [branch-name]` Switches to the specified branch"
   ]
  },
  {
   "cell_type": "markdown",
   "id": "97e82ee2-a0b6-46bd-ad10-c81e5dba2028",
   "metadata": {},
   "source": [
    "## Work in a company"
   ]
  },
  {
   "cell_type": "markdown",
   "id": "8761332d-c3a4-41cc-a04c-a33cfc27ecd8",
   "metadata": {},
   "source": [
    "1. `git checkout dev`\n",
    "\n",
    "2. `git merge master`\n",
    "\n",
    "3. Wrie some code\n",
    "\n",
    "4. Submit your code\n",
    "    - `git add .`\n",
    "    - `git commit -m \"x\"`\n",
    "    - `git push origin dev`"
   ]
  },
  {
   "cell_type": "markdown",
   "id": "1eb2b4db-32bf-4d78-9750-271f7886bea4",
   "metadata": {},
   "source": [
    "## Back home"
   ]
  },
  {
   "cell_type": "markdown",
   "id": "44412d89-2eda-489a-8277-589bc3010a22",
   "metadata": {},
   "source": [
    "1. `git checkout dev`\n",
    "\n",
    "2. `git pull origin dev`\n",
    "\n",
    "3. Wrie some code\n",
    "\n",
    "4. Submit your code\n",
    "    - `git add .`\n",
    "    - `git commit -m \"x\"`\n",
    "    - `git push origin dev`"
   ]
  },
  {
   "cell_type": "markdown",
   "id": "829e1ee6-aaab-4dad-ac05-29049805958a",
   "metadata": {},
   "source": [
    "## Development is finished"
   ]
  },
  {
   "cell_type": "markdown",
   "id": "bb80a46d-bdb8-4b2b-9fa5-3c031f946783",
   "metadata": {
    "jp-MarkdownHeadingCollapsed": true,
    "tags": []
   },
   "source": [
    "1.  Merge dev into master\n",
    "    - `git checkout master`\n",
    "    - `git merge dev`\n",
    "    - `git push origin master`\n",
    "    \n",
    "2.  Push dev to remote\n",
    "    - `git checkout dev`\n",
    "    - `git merge master` (optional)\n",
    "    - `git push origin dev`"
   ]
  },
  {
   "cell_type": "markdown",
   "id": "1cd0414f-e99d-49d4-97f7-52d17cb2fb34",
   "metadata": {},
   "source": [
    "`git pull origin dev` = `git fetch origin dev` + `git merge origin/dev`"
   ]
  },
  {
   "cell_type": "markdown",
   "id": "f39f0117-d787-4553-8eb0-51f8a86e6b49",
   "metadata": {},
   "source": [
    "## Log cmd"
   ]
  },
  {
   "cell_type": "markdown",
   "id": "288199e7-2925-48ad-996a-41c03648b09f",
   "metadata": {},
   "source": [
    "`git log --pretty=format:\"%h %s\"`"
   ]
  },
  {
   "cell_type": "markdown",
   "id": "e8f13ffb-b21e-4b6e-98df-9b8c30afc2e0",
   "metadata": {},
   "source": [
    "## Add tag"
   ]
  },
  {
   "cell_type": "markdown",
   "id": "dbcaa713-51a6-487f-b2ad-626b1cf001df",
   "metadata": {},
   "source": [
    "1. `git tag -a v1 -m \"xxx\"`\n",
    "2. `git push origin --tags`"
   ]
  },
  {
   "cell_type": "markdown",
   "id": "739ce100-230e-47c0-8aad-d8ca1ef646fd",
   "metadata": {},
   "source": [
    "## Run this product"
   ]
  },
  {
   "cell_type": "markdown",
   "id": "c03de3a1-219d-4d33-b815-10f00ad3511b",
   "metadata": {},
   "source": [
    "`git clone -b v1 [url]`"
   ]
  },
  {
   "cell_type": "markdown",
   "id": "da1666cc-acb0-46a7-80d8-c919c1eb98f7",
   "metadata": {},
   "source": [
    "## Local configuration\n",
    "`git config --local user.name [username]`\n",
    "\n",
    "`git config --local user.email [useremail]`"
   ]
  },
  {
   "cell_type": "markdown",
   "id": "f51a45cc-06fa-440b-94ba-77e2e5138e43",
   "metadata": {},
   "source": [
    "## Global configuration\n",
    "`git config --global user.name [username]`\n",
    "\n",
    "`git config --global user.email [useremail]`"
   ]
  },
  {
   "cell_type": "markdown",
   "id": "c02a85e6-d7b6-44d4-a7df-5a1a0e4ddabc",
   "metadata": {},
   "source": [
    "## System configuration\n",
    "`git config --system user.name [username]`\n",
    "\n",
    "`git config --system user.email [useremail]`"
   ]
  },
  {
   "cell_type": "markdown",
   "id": "36ec9aeb-d402-4a3c-bceb-2bb435c6789f",
   "metadata": {},
   "source": [
    "## gitignore\n",
    "https://github.com/github/gitignore"
   ]
  },
  {
   "cell_type": "code",
   "execution_count": null,
   "id": "42e4bff7-6355-4d38-9bbc-42a3db11a536",
   "metadata": {},
   "outputs": [],
   "source": []
  }
 ],
 "metadata": {
  "kernelspec": {
   "display_name": "Python 3 (ipykernel)",
   "language": "python",
   "name": "python3"
  },
  "language_info": {
   "codemirror_mode": {
    "name": "ipython",
    "version": 3
   },
   "file_extension": ".py",
   "mimetype": "text/x-python",
   "name": "python",
   "nbconvert_exporter": "python",
   "pygments_lexer": "ipython3",
   "version": "3.10.6"
  }
 },
 "nbformat": 4,
 "nbformat_minor": 5
}
